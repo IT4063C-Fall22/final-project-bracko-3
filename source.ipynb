{
 "cells": [
  {
   "cell_type": "markdown",
   "metadata": {},
   "source": [
    "# Project Title"
   ]
  },
  {
   "cell_type": "markdown",
   "metadata": {},
   "source": [
    "***FYI*** I put this in a  word doc that was submited seperatly, it makes this look alot better. I also have some hand-drawn simple graphs. \n",
    "\n",
    "Brayden Cummins – Checkpoint 1: Project Idea and datasets\n",
    "Topic: How can the US and other countries fight Climate Change?\n",
    "Project Questions: \n",
    "•\tFor this analysis, I want to look at all the countries around the world and see which ones have the least greenhouse gas emissions vs the most greenhouse gas emissions. \n",
    "•\tI want to compare these countries and then look at how these countries do economically. For example, is there a relationship between these countries’ GDP and their carbon footprint?\n",
    "•\tThen after I look at just the country by their GDP, I want to see if population impacts greenhouse gas emissions.\n",
    "•\tThen after we get the analysis of those first few questions, I want to then take it a step further and see what bigger countries like the US can do to help the smaller countries focus on being more environmentally friendly.\n",
    "What would the answer look like?\n",
    "•\tMy answer for this project would be to visualize in python what countries are doing the best and worst at fighting climate change. I want to be able to filter these graphs down by year and by country so you can do a more in-depth analysis of certain years/countries.  \n",
    "•\tAlso, with the population data, I want to see if the governments should crack down more on the big businesses or on the everyday person. I want to see how much the average person affects greenhouse emissions. \n",
    "•\tI have always wondered which countries are doing the best and the worst when fighting climate change, and this project will fulfill my questions, by matching up greenhouse emissions with other information that could be factored into why that country is doing so good or bad in their emissions. \n",
    "•\tOn these visualizations, I possibly want to connect the datasets and show them in combined visualizations. So, put the data side by side to better analyze it.\n",
    "•\tSome basic hand-drawn examples of what I am looking for are below.\n",
    "   \n",
    "My Data Sources: \n",
    "•\tThe datasets that I have identified for this project are 2 CSV/Excel files, and an International Database. I found 2 of the datasets from Kaggle, and one from the US Census. \n",
    "•\tI changed my datasets from the last assignment. As I read the feedback, I came to realize that I needed better datasets. \n",
    "•\tHere are the links to the datasets:\n",
    "o\thttps://www.kaggle.com/datasets/yoannboyere/co2-ghg-emissionsdata\n",
    "o\thttps://www.kaggle.com/datasets/alejopaullier/-gdp-by-country-1999-2022\n",
    "o\thttps://www.census.gov/data-tools/demo/idb/#/table?COUNTRY_YEAR=2022&COUNTRY_YR_ANIM=2022\n",
    "How to relate the datasets:\n",
    "•\tRelating my datasets will be easy, it will be by country and country code. \n",
    "•\tAll my datasets clearly differentiate the countries and the years that all the data is coming from. If I want to join the datasets, I will have to do it by country (the full name) I think. They should all have the countries spelled the same, so I don’t think there will be an issue. \n",
    "Importing Data into Python:\n",
    "•\tI imported my datasets in python, and I uploaded it all to the GitHub repository I submitted."
   ]
  },
  {
   "cell_type": "code",
   "execution_count": 9,
   "metadata": {},
   "outputs": [
    {
     "name": "stdout",
     "output_type": "stream",
     "text": [
      "Skipping, found downloaded files in \"./data\\co2-ghg-emissionsdata\" (use force=True to force download)\n"
     ]
    }
   ],
   "source": [
    "# Importing first dataset from kaggle using opendatasets. The CO2_GHG_emissions-data.\n",
    "\n",
    "import pandas as pd\n",
    "import opendatasets as od\n",
    "dataset_url = 'https://www.kaggle.com/datasets/yoannboyere/co2-ghg-emissionsdata'\n",
    "od.download(dataset_url, data_dir='./data')"
   ]
  },
  {
   "cell_type": "code",
   "execution_count": 10,
   "metadata": {},
   "outputs": [
    {
     "name": "stdout",
     "output_type": "stream",
     "text": [
      "Please provide your Kaggle credentials to download this dataset. Learn more: http://bit.ly/kaggle-creds\n",
      "Your Kaggle username:Your Kaggle Key:Downloading -gdp-by-country-1999-2022.zip to ./data\\-gdp-by-country-1999-2022\n"
     ]
    },
    {
     "name": "stderr",
     "output_type": "stream",
     "text": [
      "100%|██████████| 14.8k/14.8k [00:00<00:00, 7.57MB/s]"
     ]
    },
    {
     "name": "stdout",
     "output_type": "stream",
     "text": [
      "\n"
     ]
    },
    {
     "name": "stderr",
     "output_type": "stream",
     "text": [
      "\n"
     ]
    }
   ],
   "source": [
    "dataset_url = 'https://www.kaggle.com/datasets/alejopaullier/-gdp-by-country-1999-2022'\n",
    "od.download(dataset_url, data_dir='./data')"
   ]
  },
  {
   "cell_type": "code",
   "execution_count": null,
   "metadata": {},
   "outputs": [],
   "source": [
    "import requests\n",
    "\n",
    "HOST = \"https://www.census.gov/data-tools/demo/idb/#/table?COUNTRY_YEAR=2022&COUNTRY_YR_ANIM=2022\"\n",
    "year = \"2022\"\n",
    "dataset = \"data-tools/demo/idb/#/table?COUNTRY_YEAR=2022&COUNTRY_YR_ANIM=2022\"\n",
    "base_url = \"/\".join([HOST, year, dataset]) # JOIN the variables with a `/` separator https://api.census.gov/data/2022/cps/basic/apr\n",
    "\n",
    "# The dataset is huge and contains a lot of data, so we'll request a subset of the available variables.\n",
    "dataset_variables = [\"GEDIV\",\"HRMIS\",\"PENATVTY\"] \n",
    "\n",
    "predicates = {}\n",
    "predicates[\"get\"] = \",\".join(dataset_variables) # JOIN the variables with a `,` separator\n",
    "predicates[\"for\"] = \"state:*\"\n",
    "\n",
    "response = requests.get(base_url, params=predicates)\n",
    "\n",
    "census_data = pd.DataFrame.from_records(response.json()[1:], columns=response.json()[0])\n",
    "print(census_data.head())"
   ]
  }
 ],
 "metadata": {
  "kernelspec": {
   "display_name": "Python 3.10.7 64-bit (microsoft store)",
   "language": "python",
   "name": "python3"
  },
  "language_info": {
   "codemirror_mode": {
    "name": "ipython",
    "version": 3
   },
   "file_extension": ".py",
   "mimetype": "text/x-python",
   "name": "python",
   "nbconvert_exporter": "python",
   "pygments_lexer": "ipython3",
   "version": "3.10.7"
  },
  "orig_nbformat": 4,
  "vscode": {
   "interpreter": {
    "hash": "db96da3ef612ee7ef1e0049337be8355d9dd063a697ea1213b378cae8f4f7e54"
   }
  }
 },
 "nbformat": 4,
 "nbformat_minor": 2
}
